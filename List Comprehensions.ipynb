{
 "cells": [
  {
   "cell_type": "markdown",
   "id": "4db5d1bd",
   "metadata": {},
   "source": [
    "[Tutorial](https://www.analyticsvidhya.com/blog/2016/01/python-tutorial-list-comprehension-examples/)\n",
    "\n",
    "Formatting a list comprehension:\n",
    "\n",
    "    for(set of values to iterate):\n",
    "        if(conditional filtering):\n",
    "            output_expression()\n",
    "            \n",
    "    [output_expression() for(set of values to iterate) if(conditional filtering)]"
   ]
  },
  {
   "cell_type": "markdown",
   "id": "7bd6814a",
   "metadata": {},
   "source": [
    "Find all of the numbers from 1–1000 that are divisible by 8"
   ]
  },
  {
   "cell_type": "code",
   "execution_count": null,
   "id": "2873b594",
   "metadata": {},
   "outputs": [],
   "source": []
  },
  {
   "cell_type": "markdown",
   "id": "850cce0a",
   "metadata": {},
   "source": [
    "Find all of the numbers from 1–1000 that have a 6 in them"
   ]
  },
  {
   "cell_type": "code",
   "execution_count": null,
   "id": "4e73e5bf",
   "metadata": {},
   "outputs": [],
   "source": []
  },
  {
   "cell_type": "markdown",
   "id": "ceb75e3c",
   "metadata": {},
   "source": [
    "Count the number of spaces in a string (use string above)"
   ]
  },
  {
   "cell_type": "code",
   "execution_count": null,
   "id": "a1d50ca9",
   "metadata": {},
   "outputs": [],
   "source": []
  },
  {
   "cell_type": "markdown",
   "id": "30622335",
   "metadata": {},
   "source": [
    "Remove all of the vowels in a string (use string above)"
   ]
  },
  {
   "cell_type": "code",
   "execution_count": null,
   "id": "45f011ad",
   "metadata": {},
   "outputs": [],
   "source": []
  },
  {
   "cell_type": "markdown",
   "id": "362e6222",
   "metadata": {},
   "source": [
    "Find all of the words in a string that are less than 5 letters (use string above)"
   ]
  },
  {
   "cell_type": "code",
   "execution_count": null,
   "id": "75985fe2",
   "metadata": {},
   "outputs": [],
   "source": []
  },
  {
   "cell_type": "markdown",
   "id": "766b7b4f",
   "metadata": {},
   "source": [
    "Use a dictionary comprehension to count the length of each word in a sentence (use string above)\n"
   ]
  },
  {
   "cell_type": "code",
   "execution_count": null,
   "id": "0f8a1f47",
   "metadata": {},
   "outputs": [],
   "source": []
  },
  {
   "cell_type": "markdown",
   "id": "e824a27b",
   "metadata": {},
   "source": [
    "Use a nested list comprehension to find all of the numbers from 1–1000 that are divisible by any single digit besides 1 (2–9)"
   ]
  },
  {
   "cell_type": "code",
   "execution_count": null,
   "id": "ec49030e",
   "metadata": {},
   "outputs": [],
   "source": []
  },
  {
   "cell_type": "markdown",
   "id": "56d698d9",
   "metadata": {},
   "source": [
    "For all the numbers 1–1000, use a nested list/dictionary comprehension to find the highest single digit any of the numbers is divisible by"
   ]
  },
  {
   "cell_type": "code",
   "execution_count": null,
   "id": "17d4ebe0",
   "metadata": {},
   "outputs": [],
   "source": []
  },
  {
   "cell_type": "markdown",
   "id": "54a85dc8",
   "metadata": {},
   "source": [
    "[Solutions to below problems](https://bbookman.github.io/Python-list-comprehension1/)"
   ]
  },
  {
   "cell_type": "markdown",
   "id": "c6a53636",
   "metadata": {},
   "source": [
    "Find all of the numbers from 1-1000 that have a 3 in them"
   ]
  },
  {
   "cell_type": "code",
   "execution_count": null,
   "id": "c48d333a",
   "metadata": {},
   "outputs": [],
   "source": []
  },
  {
   "cell_type": "markdown",
   "id": "c9781d84",
   "metadata": {},
   "source": [
    "Find all of the numbers from 1-1000 that are divisible by 7"
   ]
  },
  {
   "cell_type": "code",
   "execution_count": null,
   "id": "d0f29cce",
   "metadata": {},
   "outputs": [],
   "source": []
  },
  {
   "cell_type": "markdown",
   "id": "1c0deca9",
   "metadata": {},
   "source": [
    "Count the number of spaces in a string"
   ]
  },
  {
   "cell_type": "code",
   "execution_count": null,
   "id": "52962b90",
   "metadata": {},
   "outputs": [],
   "source": []
  },
  {
   "cell_type": "markdown",
   "id": "f6e42821",
   "metadata": {},
   "source": [
    "Create a list of all the consonants in the string “Yellow Yaks like yelling and yawning and yesturday they yodled while eating yuky yams”"
   ]
  },
  {
   "cell_type": "code",
   "execution_count": null,
   "id": "0e336d6a",
   "metadata": {},
   "outputs": [],
   "source": []
  },
  {
   "cell_type": "markdown",
   "id": "022e04f3",
   "metadata": {},
   "source": [
    "Get the index and the value as a tuple for items in the list “hi”, 4, 8.99, ‘apple’, (‘t,b’,’n’). Result would look like (index, value), (index, value)"
   ]
  },
  {
   "cell_type": "code",
   "execution_count": null,
   "id": "ec8b4a48",
   "metadata": {},
   "outputs": [],
   "source": []
  },
  {
   "cell_type": "markdown",
   "id": "fda8317c",
   "metadata": {},
   "source": [
    "Find the common numbers in two lists (without using a tuple or set) list_a = 1, 2, 3, 4, list_b = 2, 3, 4, 5"
   ]
  },
  {
   "cell_type": "code",
   "execution_count": null,
   "id": "8cb7d998",
   "metadata": {},
   "outputs": [],
   "source": []
  },
  {
   "cell_type": "markdown",
   "id": "36275b44",
   "metadata": {},
   "source": [
    "Get only the numbers in a sentence like ‘In 1984 there were 13 instances of a protest with over 1000 people attending’"
   ]
  },
  {
   "cell_type": "code",
   "execution_count": null,
   "id": "2bcdb8d0",
   "metadata": {},
   "outputs": [],
   "source": []
  },
  {
   "cell_type": "markdown",
   "id": "50e4bf04",
   "metadata": {},
   "source": [
    "Given numbers = range(20), produce a list containing the word ‘even’ if a number in the numbers is even, and the word ‘odd’ if the number is odd. Result would look like ‘odd’,’odd’, ‘even’"
   ]
  },
  {
   "cell_type": "code",
   "execution_count": null,
   "id": "7d105198",
   "metadata": {},
   "outputs": [],
   "source": []
  },
  {
   "cell_type": "markdown",
   "id": "a4f1e2b7",
   "metadata": {},
   "source": [
    "Produce a list of tuples consisting of only the matching numbers in these lists list_a = 1, 2, 3,4,5,6,7,8,9, list_b = 2, 7, 1, 12. Result would look like (4,4), (12,12)"
   ]
  },
  {
   "cell_type": "code",
   "execution_count": null,
   "id": "222aa169",
   "metadata": {},
   "outputs": [],
   "source": []
  },
  {
   "cell_type": "markdown",
   "id": "72bba164",
   "metadata": {},
   "source": [
    "Find all of the words in a string that are less than 4 letters"
   ]
  },
  {
   "cell_type": "code",
   "execution_count": null,
   "id": "359fc8de",
   "metadata": {},
   "outputs": [],
   "source": []
  },
  {
   "cell_type": "markdown",
   "id": "ef638be6",
   "metadata": {},
   "source": [
    "Use a nested list comprehension to find all of the numbers from 1-1000 that are divisible by any single digit besides 1 (2-9)"
   ]
  },
  {
   "cell_type": "code",
   "execution_count": null,
   "id": "225537a3",
   "metadata": {},
   "outputs": [],
   "source": []
  },
  {
   "cell_type": "markdown",
   "id": "8adfd72c",
   "metadata": {},
   "source": []
  },
  {
   "cell_type": "code",
   "execution_count": null,
   "id": "6f912c06",
   "metadata": {},
   "outputs": [],
   "source": []
  }
 ],
 "metadata": {
  "kernelspec": {
   "display_name": "Python 3",
   "language": "python",
   "name": "python3"
  },
  "language_info": {
   "codemirror_mode": {
    "name": "ipython",
    "version": 3
   },
   "file_extension": ".py",
   "mimetype": "text/x-python",
   "name": "python",
   "nbconvert_exporter": "python",
   "pygments_lexer": "ipython3",
   "version": "3.8.8"
  }
 },
 "nbformat": 4,
 "nbformat_minor": 5
}
