{
 "cells": [
  {
   "cell_type": "markdown",
   "id": "b3d4f5f8",
   "metadata": {},
   "source": [
    "From [this site](https://linepole.wordpress.com/2015/06/02/five-programming-problems-every-software-engineer-should-be-able-to-solve-in-less-than-1-hour/)"
   ]
  },
  {
   "cell_type": "markdown",
   "id": "0c2a938a",
   "metadata": {},
   "source": [
    "Write three functions that compute the sum of the numbers in a given list using a for-loop, a while-loop, and recursion."
   ]
  },
  {
   "cell_type": "code",
   "execution_count": 11,
   "id": "6e523e9f",
   "metadata": {},
   "outputs": [
    {
     "name": "stdout",
     "output_type": "stream",
     "text": [
      "For loop: 216.\n",
      "While loop: 216.\n"
     ]
    }
   ],
   "source": [
    "case = [4, 8, 56, 54, 5, 89]\n",
    "\n",
    "def floop(nums):\n",
    "    x = 0\n",
    "    for i in nums:\n",
    "        x = x+i\n",
    "    return x\n",
    "\n",
    "def wloop(nums):\n",
    "    x = 0\n",
    "    while len(nums) > 0:\n",
    "        y = nums.pop()\n",
    "        x = x+y\n",
    "    return x\n",
    "\n",
    "def recurs(nums):\n",
    "    x = 0\n",
    "    if len(nums) == 1:\n",
    "        return x\n",
    "    else: x = nums[0] + recurs(nums[1:])\n",
    "        \n",
    "print(f'For loop: {floop(case)}.')\n",
    "#print(f'Recursion: {recurs(case)}.')\n",
    "print(f'While loop: {wloop(case)}.')\n",
    "\n",
    "#Current status: while loop works but destroys the original list so it must go at the end. Recursion has an error that I haven't figured out yet"
   ]
  },
  {
   "cell_type": "markdown",
   "id": "773e2167",
   "metadata": {},
   "source": [
    "Write a function that combines two lists by alternatingly taking elements. For example: given the two lists [a, b, c] and [1, 2, 3], the function should return [a, 1, b, 2, c, 3]."
   ]
  },
  {
   "cell_type": "code",
   "execution_count": null,
   "id": "8a82f4ed",
   "metadata": {},
   "outputs": [],
   "source": []
  },
  {
   "cell_type": "markdown",
   "id": "c4345515",
   "metadata": {},
   "source": [
    "Write a function that computes the list of the first 100 Fibonacci numbers. By definition, the first two numbers in the Fibonacci sequence are 0 and 1, and each subsequent number is the sum of the previous two. As an example, here are the first 10 Fibonnaci numbers: 0, 1, 1, 2, 3, 5, 8, 13, 21, and 34."
   ]
  },
  {
   "cell_type": "code",
   "execution_count": null,
   "id": "c8327228",
   "metadata": {},
   "outputs": [],
   "source": []
  },
  {
   "cell_type": "markdown",
   "id": "9c7d6bd4",
   "metadata": {},
   "source": [
    "Write a function that given a list of non negative integers, arranges them such that they form the largest possible number. For example, given [50, 2, 1, 9], the largest formed number is 95021."
   ]
  },
  {
   "cell_type": "code",
   "execution_count": null,
   "id": "1b46dfd5",
   "metadata": {},
   "outputs": [],
   "source": []
  },
  {
   "cell_type": "markdown",
   "id": "dc8d736d",
   "metadata": {},
   "source": [
    "Write a program that outputs all possibilities to put + or - or nothing between the numbers 1, 2, …, 9 (in this order) such that the result is always 100. For example: 1 + 2 + 34 – 5 + 67 – 8 + 9 = 100."
   ]
  },
  {
   "cell_type": "code",
   "execution_count": null,
   "id": "af178a8f",
   "metadata": {},
   "outputs": [],
   "source": []
  }
 ],
 "metadata": {
  "kernelspec": {
   "display_name": "Python 3",
   "language": "python",
   "name": "python3"
  },
  "language_info": {
   "codemirror_mode": {
    "name": "ipython",
    "version": 3
   },
   "file_extension": ".py",
   "mimetype": "text/x-python",
   "name": "python",
   "nbconvert_exporter": "python",
   "pygments_lexer": "ipython3",
   "version": "3.8.8"
  }
 },
 "nbformat": 4,
 "nbformat_minor": 5
}
